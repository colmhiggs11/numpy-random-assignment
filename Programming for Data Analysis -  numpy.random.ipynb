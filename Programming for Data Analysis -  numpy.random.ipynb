{
 "cells": [
  {
   "cell_type": "markdown",
   "metadata": {},
   "source": [
    "<div align=\"center\">\n",
    "    \n",
    "# Programming for Data Analysis    \n",
    "## Assignment 1: Analysis of numpy.random Package\n",
    "---\n",
    "<div align=\"center\">\n",
    "\n",
    "![Image description](https://github.com/colmhiggs11/ProandS_Project/blob/master/Pictures%20for%20README/GMIT.png?raw=true) \n",
    "\n",
    "![Name and Id number](https://github.com/colmhiggs11/ProandS_Project/blob/master/Pictures%20for%20README/Name%20number%20box.PNG?raw=true)\n",
    "\n",
    "<div align=\"left\">\n",
    "    \n",
    "\n",
    "## Table of Contents\n",
    "---\n",
    "\n",
    "* [Introduction](#introduction)\n",
    "* [1 - Numpy.random package](#1__numpy_random_package)\n",
    "* [2 - Simple random Data & Permutations](#2__simple_random_data___permutations)\n",
    "    * [2.1 - Simple random data](#2_1__sinple_random_data)\n",
    "    * [2.2 - Permutatinos](##2_2__permutations) \n",
    "* [3 - Distribution Functions](#3__distribution_functions)\n",
    "    * [Section 3.1](#section_3_1)\n",
    "    * [Section 3.2](#section_3_2)   \n",
    "    * [Section 3.3](#section_3_3)   \n",
    "    * [Section 3.4](#section_3_4)   \n",
    "    * [Section 3.5](#section_3_5)\n",
    "* [4 - Seeds in generation of pseudorandom numbers](#4__seeds_in_generation_of_pseudorandom_numbers)\n",
    "    * [Section 4.1](#section_4_1)\n",
    "    * [Section 4.2](#section_4_2)\n",
    "* [5 - References](#5__references)\n",
    "\n",
    "\n",
    "## Introduction <a class=\"anchor\" id=\"introduction\"></a>\n",
    "---\n",
    "\n",
    "This Jupyter notebook consists of an analyis of the numpy.random package in Python. There are four distinct tasks carried out in this Jupyter notebook and are seperated into four seperate headings. The tasks listed below correlate to the numbered headings and can be accessed by clicking on the title of the task or the link from the Table of Contents. \n",
    "\n",
    "* [1. Explain the overall purpose of the package](#1__numpy_random_package)\n",
    "* [2. Explain the use of the “Simple random data” and “Permutations” functions](#2__simple_random_data___permutations)\n",
    "* [3. Explain the use and purpose of at least five “Distributions” functions](#3__distribution_functions)\n",
    "* [4. Explain the use of seeds in generating pseudorandom numbers](#4__seeds_in_generation_of_pseudorandom_numbers)\n"
   ]
  },
  {
   "cell_type": "markdown",
   "metadata": {},
   "source": [
    "## 1 - Numpy.random package <a class=\"anchor\" id=\"1__numpy_random_package\"></a>\n",
    "---\n",
    "\n",
    "* [Numpy](https://numpy.org/) is a numerical Python library that uses arrays to allow calculations to be completed on lists of data by converting them to arrays. Multiplying matrices is an example of the calculations that numpy can deal with that would otherwise be extremely difficult to write code for. Numpy is used in many forms the main ones being file compressions, analysing datasets and as mentioned performing calculations of matrix operations that would not be possible to complete on lists. \n",
    "\n",
    "Numpy has recently upgraded from version v1.15 to v1.19, there is a section explaining the main differences that can be found [here](https://numpy.org/doc/stable/reference/random/new-or-different.html#new-or-different). The following sections will also explain and show examples of some of the newer features in v1.19.\n",
    "\n",
    "* [Numpy.random](https://numpy.org/doc/stable/reference/random/index.html) is a sub package of the Numpy Python library. It contains various functions that generate and show random data in different forms. It is especially useful in instances where data cannot be collected and you need to generate arrays of data to complete an analysis of said data.\n",
    "\n",
    "Numpy.random uses Generators and Bit Generators to generate Pseudo random numbers. Generators use sequences of bits created by the Bit Generator and convert them into sequences of numbers that are sampled from probability distributions. In the new version of Numpy the Generator is compatible with numerous Bit Generators that allow more probability distributions to be sampled. Pseudo Random Number Generators are algorithms that produce an array of numbers that seem random but are actually generated from mathematical formulas. They are ideal for testing code or modelling as if you use a seed number for the initial starting point you will return the same number each time. True random numbers are required for data encryption and gambling. The table below shows the type of random numbers suitable for each application.\n",
    "\n",
    "<div align=\"center\">\n",
    "\n",
    "|![Pseudo Random Numbers vs True Random numbers](https://github.com/colmhiggs11/numpy-random-assignment/blob/main/Images/Pseudo%20V%20True%20random%20number%20comparison.PNG?raw=true)|\n",
    "|:--:| \n",
    "| *PNRG Vs TRNG*  |\n",
    "\n",
    "\n",
    "<div align=\"left\">\n"
   ]
  },
  {
   "cell_type": "markdown",
   "metadata": {},
   "source": [
    "## 2 - Simple random Data & Permutations <a class=\"anchor\" id=\"2__simple_random_data___permutations\"></a>\n",
    "---\n",
    "### 2.1 - Simple random data <a class=\"anchor\" id=\"2_1__sinple_random_data\"></a>\n",
    "\n",
    "The simple random data section in the numpy documentation has **four** main functions. Examples of how to use these functions will be discussed further in this section.\n",
    "\n",
    "<div align=\"center\">\n",
    "\n",
    "|![v1.15 Integers](https://github.com/colmhiggs11/numpy-random-assignment/blob/main/Images/v1.15%20Simple%20Random%20Data.PNG?raw=true)|![v1.19 Integers](https://github.com/colmhiggs11/numpy-random-assignment/blob/main/Images/v1.19%20Simple%20Random%20Data.PNG?raw=true)|\n",
    "|:--:|:--:|\n",
    "| *v1.15 Functions in Simple Random Data*  | *v1.19 Functions in Simple Random Data* |\n",
    "\n",
    "\n",
    "<div align=\"left\">\n",
    "\n",
    "To use any of the functions in the numpy.random package first numpy needs to be imported.\n",
    "\n",
    "#### 2.1.1 Integers \n",
    "\n",
    "Integers is the updated version in v1.19 to generate a random integer numbers from a uniform distribution. As seen in the comparison image in the previous section it replaces rand, randn, randint and random_integers from older versions. The updated integer function allows the user to specify and endpoint/\n",
    "\n",
    "   **Inputs**\n",
    "   \n",
    "    (low, high=None, size=None, dtype=np.int64, endpoint=False)¶\n",
    "\n",
    "   **Output** \n",
    "    \n",
    "    int or ndarray of ints\n",
    "    size-shaped array of random integers from the appropriate distribution, or a single such random int if size not provided\n",
    "\n",
    "data type int64 is default type\n",
    "No arguements will give an error\n",
    "\n",
    "\n",
    "1. List of parameters which are the inputs to the function\n",
    "Out parameter type.\n",
    "\n",
    "2. What influence does the input have on the output\n",
    "\n",
    "\n",
    "Integer function fulfilling the expectation that will generate all numbers with the same probability.\n"
   ]
  },
  {
   "cell_type": "code",
   "execution_count": 1,
   "metadata": {},
   "outputs": [
    {
     "data": {
      "text/plain": [
       "array([[2, 3, 4, 1, 3],\n",
       "       [4, 1, 1, 2, 1],\n",
       "       [1, 3, 1, 3, 1],\n",
       "       [1, 1, 1, 4, 1]], dtype=int64)"
      ]
     },
     "execution_count": 1,
     "metadata": {},
     "output_type": "execute_result"
    }
   ],
   "source": [
    "import numpy as np\n",
    "\n",
    "rng = np.random.default_rng()\n",
    "rng.integers(1,4, size=(4,5) ,dtype=np.int64, endpoint=True)"
   ]
  },
  {
   "cell_type": "markdown",
   "metadata": {},
   "source": [
    "#### 2.1.2 Random\n",
    "\n",
    "Random is the updated version in v1.19 to generate a random float numbers from a continous uniform distribution. As seen in the comparison image in the previous section it replaces ranf,ran_sample and sample from older versions. \n",
    "\n",
    "Returns random floats in the half-open interval [0.0, 1.0)\n",
    "\n",
    "Inputs\n",
    "\n",
    "\n",
    "https://numpy.org/doc/stable/reference/random/generated/numpy.random.Generator.random.html#numpy.random.Generator.random\n",
    "\n",
    "\n",
    "\n",
    "\n"
   ]
  },
  {
   "cell_type": "code",
   "execution_count": 2,
   "metadata": {},
   "outputs": [
    {
     "data": {
      "text/plain": [
       "0.2325921709968991"
      ]
     },
     "execution_count": 2,
     "metadata": {},
     "output_type": "execute_result"
    }
   ],
   "source": [
    "rng = np.random.default_rng()\n",
    "rng.random()\n",
    "\n"
   ]
  },
  {
   "cell_type": "markdown",
   "metadata": {},
   "source": [
    "#### 2.1.3 Choice\n",
    "Optional axis argument for methods like choice, permutation and shuffle that controls which axis an operation is performed over for multi-dimensional arrays.\n",
    "\n",
    "axisint, optional\n",
    "The axis along which the selection is performed. The default, 0, selects by row.\n",
    "\n",
    "shufflebool, optional\n",
    "Whether the sample is shuffled when sampling without replacement. Default is True, False provides a speedup.\n",
    "https://numpy.org/doc/stable/reference/random/generated/numpy.random.Generator.random.html#numpy.random.Generator.random\n",
    "\n"
   ]
  },
  {
   "cell_type": "code",
   "execution_count": null,
   "metadata": {},
   "outputs": [],
   "source": []
  },
  {
   "cell_type": "markdown",
   "metadata": {},
   "source": [
    "#### 2.1.4 Bytes\n",
    "\n",
    "https://numpy.org/doc/stable/reference/random/generated/numpy.random.Generator.bytes.html#numpy.random.Generator.bytes\n",
    "Return random bytes.\n",
    "Parameters\n",
    "lengthint\n",
    "Number of random bytes.\n",
    "\n",
    "Returns\n",
    "outstr\n",
    "String of length length.\n"
   ]
  },
  {
   "cell_type": "code",
   "execution_count": 3,
   "metadata": {},
   "outputs": [
    {
     "data": {
      "text/plain": [
       "b'\\\\_\\x96@\\xc9\\xbf\\xa4\\x94\\xcc\\x1a'"
      ]
     },
     "execution_count": 3,
     "metadata": {},
     "output_type": "execute_result"
    }
   ],
   "source": [
    "np.random.default_rng().bytes(10)\n"
   ]
  },
  {
   "cell_type": "markdown",
   "metadata": {},
   "source": [
    "### 2.2 - Permutations <a class=\"anchor\" id=\"2_2__permutations\"></a>\n",
    "\n",
    "Permutations image\n",
    "\n",
    "#### 2.2.1 Shuffle\n",
    "Was in choice now in\n",
    "\n",
    "https://numpy.org/doc/stable/reference/random/generated/numpy.random.Generator.shuffle.html#numpy.random.Generator.shuffle\n",
    "\n",
    "Modify a sequence in-place by shuffling its contents.\n",
    "\n",
    "The order of sub-arrays is changed but their contents remains the same.\n",
    "\n",
    "\n",
    "\n",
    "#### 2.2.2 permutation\n",
    "\n",
    "Randomly permute a sequence, or return a permuted range.\n",
    "    \n",
    "\n",
    "https://numpy.org/doc/stable/reference/random/generated/numpy.random.Generator.permutation.html#numpy.random.Generator.permutation"
   ]
  },
  {
   "cell_type": "markdown",
   "metadata": {},
   "source": [
    "## 3 - Distribution Functions <a class=\"anchor\" id=\"3__distribution_functions\"></a>\n",
    "---\n",
    "\n",
    "More dimensions can make complex data structures. \n",
    "Graphically visualise with histograms - import matplotlib.pyplot as plt\n",
    "\n",
    "\n",
    "look up probability distributions before picking 5\n",
    "Stat trek\n",
    "\n",
    "Types of Discrete Distribution\n",
    "**Binomial distribution** to model binary data, such as coin tosses.\n",
    "**Uniform distribution** to model multiple events with the same probability, such as rolling a die.\n",
    "**Poisson distribution** to model count data, such as the count of library book checkouts per hour.\n",
    "\n",
    "\n",
    "Continuous Probability Distributions\n",
    "Continuous probability functions are also known as probability density functions. You know that you have a continuous distribution if the variable can assume an infinite number of values between any two values. Continuous variables are often measurements on a scale, such as height, weight, and temperature.\n",
    "\n",
    "The most well-known continuous distribution is the **normal distribution**, which is also known as the Gaussian distribution or the “bell curve.”\n",
    "\n",
    "**Standard-t Distribution** Double check for one more continous PD \n",
    "\n",
    "https://stattrek.com/probability-distributions/discrete-continuous.aspx\n",
    "\n",
    "https://www.datacamp.com/community/tutorials/probability-distributions-python\n",
    "https://www.kaggle.com/hamelg/python-for-data-22-probability-distributions\n",
    "\n",
    "### Section 3.1 <a class=\"anchor\" id=\"section_3_1\"></a>\n",
    "### Section 3.2 <a class=\"anchor\" id=\"section_3_2\"></a>\n",
    "### Section 3.3 <a class=\"anchor\" id=\"section_3_3\"></a>\n",
    "### Section 3.4 <a class=\"anchor\" id=\"section_3_4\"></a>\n",
    "### Section 3.5 <a class=\"anchor\" id=\"section_3_5\"></a>\n"
   ]
  },
  {
   "cell_type": "markdown",
   "metadata": {},
   "source": [
    "## 4 - Seeds in generation of pseudorandom numbers <a class=\"anchor\" id=\"4__seeds_in_generation_of_pseudorandom_numbers\"></a>\n",
    "\n",
    "---\n",
    "\n",
    "In the new version of numpy 1.15 - 1.19 the way of generating seeds has changed from the Mersenne twister algorithm to PCG64. \n",
    "Permuted Congruential Generator 64-bit. How it outperforms the MT\n",
    "\n",
    "Formulate how to seed the algorithm so you can get reproduceable results from your code - Quick start on numpy documentation is a good place to start.\n",
    "\n",
    "\n",
    "### Section 4.1 <a class=\"anchor\" id=\"section_4_1\"></a>\n",
    "\n",
    "### Section 4.2 <a class=\"anchor\" id=\"section_4_2\"></a>\n",
    "\n"
   ]
  },
  {
   "cell_type": "markdown",
   "metadata": {},
   "source": [
    "## 5 - References <a class=\"anchor\" id=\"5__references\"></a>\n",
    "\n",
    "---\n",
    "\n",
    "1. https://numpy.org/\n",
    "2. https://numpy.org/doc/stable/reference/random/index.html\n",
    "3. https://numpy.org/doc/stable/reference/random/generator.html#simple-random-data\n",
    "4. https://numpy.org/doc/stable/reference/random/generator.html#permutations\n",
    "5. https://numpy.org/doc/stable/reference/random/generator.html#distributions\n",
    "6. https://www.programmer-books.com/wp-content/uploads/2019/04/Python-for-Data-Analysis-2nd-Edition.pdf\n",
    "7. https://stattrek.com/probability-distributions/discrete-continuous.aspx\n",
    "8. https://www.datacamp.com/community/tutorials/probability-distributions-python\n",
    "9. https://www.kaggle.com/hamelg/python-for-data-22-probability-distributions\n",
    "10. https://numpy.org/doc/stable/reference/random/new-or-different.html#new-or-different"
   ]
  },
  {
   "cell_type": "code",
   "execution_count": null,
   "metadata": {},
   "outputs": [],
   "source": []
  }
 ],
 "metadata": {
  "kernelspec": {
   "display_name": "Python 3",
   "language": "python",
   "name": "python3"
  },
  "language_info": {
   "codemirror_mode": {
    "name": "ipython",
    "version": 3
   },
   "file_extension": ".py",
   "mimetype": "text/x-python",
   "name": "python",
   "nbconvert_exporter": "python",
   "pygments_lexer": "ipython3",
   "version": "3.7.4"
  }
 },
 "nbformat": 4,
 "nbformat_minor": 2
}
