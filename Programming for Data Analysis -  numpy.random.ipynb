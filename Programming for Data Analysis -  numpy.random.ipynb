{
 "cells": [
  {
   "cell_type": "markdown",
   "metadata": {},
   "source": [
    "<div align=\"center\">\n",
    "    \n",
    "# Programming for Data Analysis    \n",
    "## Assignment 1: Analysis of numpy.random Package\n",
    "---\n",
    "<div align=\"center\">\n",
    "\n",
    "![Image description](https://github.com/colmhiggs11/ProandS_Project/blob/master/Pictures%20for%20README/GMIT.png?raw=true) \n",
    "\n",
    "![Name and Id number](https://github.com/colmhiggs11/ProandS_Project/blob/master/Pictures%20for%20README/Name%20number%20box.PNG?raw=true)\n",
    "\n",
    "<div align=\"left\">\n",
    "    \n",
    "\n",
    "## Table of Contents\n",
    "---\n",
    "\n",
    "* [Introduction](#introduction)\n",
    "* [1 - Numpy.random package](#1__numpy_random_package)\n",
    "* [2 - Simple random Data & Permutations](#2__simple_random_data___permutations)\n",
    "    * [2.1 - Simple random data](#2_1__sinple_random_data)\n",
    "    * [2.2 - Permutatinos](##2_2__permutations) \n",
    "* [3 - Distribution Functions](#3__distribution_functions)\n",
    "    * [Section 3.1](#section_3_1)\n",
    "    * [Section 3.2](#section_3_2)   \n",
    "    * [Section 3.3](#section_3_3)   \n",
    "    * [Section 3.4](#section_3_4)   \n",
    "    * [Section 3.5](#section_3_5)\n",
    "* [4 - Seeds in generation of pseudorandom numbers](#4__seeds_in_generation_of_pseudorandom_numbers)\n",
    "    * [Section 4.1](#section_4_1)\n",
    "    * [Section 4.2](#section_4_2)\n",
    "* [5 - References](#5__references)\n",
    "\n",
    "\n",
    "## Introduction <a class=\"anchor\" id=\"introduction\"></a>\n",
    "---\n",
    "\n",
    "This Jupyter notebook consists of an analyis of the numpy.random package in Python. There are four distinct tasks carried out in this Jupyter notebook and are seperated into four seperate headings. The tasks listed below correlate to the numbered headings and can be accessed by clicking on the title of the task or the link from the Table of Contents. \n",
    "\n",
    "* [1. Explain the overall purpose of the package](#1__numpy_random_package)\n",
    "* [2. Explain the use of the “Simple random data” and “Permutations” functions](#2__simple_random_data___permutations)\n",
    "* [3. Explain the use and purpose of at least five “Distributions” functions](#3__distribution_functions)\n",
    "* [4. Explain the use of seeds in generating pseudorandom numbers](#4__seeds_in_generation_of_pseudorandom_numbers)\n"
   ]
  },
  {
   "cell_type": "markdown",
   "metadata": {},
   "source": [
    "## 1 - Numpy.random package <a class=\"anchor\" id=\"1__numpy_random_package\"></a>\n",
    "---\n",
    "\n",
    "* [Numpy](https://numpy.org/) is a numerical Python library that uses arrays to allow calculations to be completed on lists of data by converting them to arrays. Multiplying matrices is an example of the calculations that numpy can deal with that would otherwise be extremely difficult to write code for. Numpy is used in many forms the main ones being file compressions, analysing datasets and as mentioned performing calculations of matrix operations that would not be possible to complete on lists. \n",
    "\n",
    "Numpy has recently upgraded from version v1.15 to v1.19, there is a section explaining the main differences that can be found [here](https://numpy.org/doc/stable/reference/random/new-or-different.html#new-or-different). The following sections will also explain and show examples of some of the newer features in v1.19.\n",
    "\n",
    "* [Numpy.random](https://numpy.org/doc/stable/reference/random/index.html) is a sub package of the Numpy Python library. It contains various functions that generate and show random data in different forms. It is especially useful in instances where data cannot be collected and you need to generate arrays of data to complete an analysis of said data.\n",
    "\n",
    "Numpy.random uses Generators and Bit Generators to generate Pseudo random numbers. Generators use sequences of bits created by the Bit Generator and convert them into sequences of numbers that are sampled from probability distributions. In the new version of Numpy the Generator is compatible with numerous Bit Generators that allow more probability distributions to be sampled. Pseudo Random Number Generators are algorithms that produce an array of numbers that seem random but are actually generated from mathematical formulas. They are ideal for testing code or modelling as if you use a seed number for the initial starting point you will return the same number each time. True random numbers are required for data encryption and gambling. The table below shows the type of random numbers suitable for each application.\n",
    "\n",
    "<div align=\"center\">\n",
    "\n",
    "|![Pseudo Random Numbers vs True Random numbers](https://github.com/colmhiggs11/numpy-random-assignment/blob/main/Images/Pseudo%20V%20True%20random%20number%20comparison.PNG?raw=true)|\n",
    "|:--:| \n",
    "| *PNRG Vs TRNG*  |\n",
    "\n",
    "\n",
    "<div align=\"left\">\n"
   ]
  },
  {
   "cell_type": "markdown",
   "metadata": {},
   "source": [
    "## 2 - Simple random Data & Permutations <a class=\"anchor\" id=\"2__simple_random_data___permutations\"></a>\n",
    "---\n",
    "### 2.1 - Simple random data <a class=\"anchor\" id=\"2_1__sinple_random_data\"></a>\n",
    "\n",
    "The simple random data section in the numpy documentation has **four** main functions. Examples of how to use these functions will be discussed further in this section. The updates to v1.19 means it is possible to perform operations on multi-dimensional arrays for methods like choice, permutation and shuffle.\n",
    "\n",
    "<div align=\"center\">\n",
    "\n",
    "|![v1.15 Integers](https://github.com/colmhiggs11/numpy-random-assignment/blob/main/Images/v1.15%20Simple%20Random%20Data.PNG?raw=true)|![v1.19 Integers](https://github.com/colmhiggs11/numpy-random-assignment/blob/main/Images/v1.19%20Simple%20Random%20Data.PNG?raw=true)|\n",
    "|:--:|:--:|\n",
    "| *v1.15 Functions in Simple Random Data*  | *v1.19 Functions in Simple Random Data* |\n",
    "\n",
    "\n",
    "<div align=\"left\">\n",
    "\n",
    "To use any of the functions in the numpy.random package first numpy needs to be imported.\n",
    "\n",
    "#### 2.1.1 Integers \n",
    "\n",
    "Integers is the updated version in v1.19 to generate a random integer numbers from a uniform distribution. As seen in the comparison image in the previous section it replaces rand, randn, randint and random_integers from older versions. The updated integer function allows the user to specify and endpoint. The minimum input required for this function is an integer which will be used as the highest value in the distribution. The cell below shows a the value \"2\" being passed through the generator. \n"
   ]
  },
  {
   "cell_type": "code",
   "execution_count": 1,
   "metadata": {},
   "outputs": [
    {
     "data": {
      "text/plain": [
       "1"
      ]
     },
     "execution_count": 1,
     "metadata": {},
     "output_type": "execute_result"
    }
   ],
   "source": [
    "import numpy as np\n",
    "import seaborn as sns\n",
    "import matplotlib.pyplot as plt\n",
    "rng = np.random.default_rng()\n",
    "rng.integers(2)"
   ]
  },
  {
   "cell_type": "markdown",
   "metadata": {},
   "source": [
    "The random numbers that can be generated from this are limited to \"0\" and \"1\" as the higher value is exclusive from the range. (When there is no high value used then the output returns from \"0\" to \"low value\".\n",
    "default_rng is called to get a new instance of a Generator.\n",
    "\n",
    "There are other inputs that can shape the users output. These are shown below:\n",
    "\n",
    "   **Inputs**\n",
    "   \n",
    "    (low, high=None, size=None, dtype=np.int64, endpoint=False)\n",
    "    \n",
    "   **Output** \n",
    "    \n",
    "    int or ndarray of ints\n",
    "    size-shaped array of random integers from the appropriate distribution, or a single such random int if size not provided\n",
    "\n",
    "low and high are both integers and provide the lowest and highest values in the range of numbers to be generated.\n",
    "If the size input is included then the output will become an array of integers within the limits in a tuple depending on size paramaeters. These can be multidimensional.\n",
    "dtype allows the user to change data type of the output if nothing is entered then data type int64 is default type\n",
    "************endpoint ************\n",
    "\n",
    "With the integer function is is expected that it will generate all numbers with the same probability. (Uniform distribution)"
   ]
  },
  {
   "cell_type": "code",
   "execution_count": 2,
   "metadata": {},
   "outputs": [
    {
     "data": {
      "text/plain": [
       "array([[3, 2, 3, 1, 1],\n",
       "       [1, 4, 4, 3, 2],\n",
       "       [2, 4, 2, 4, 2],\n",
       "       [4, 1, 4, 4, 2],\n",
       "       [3, 1, 3, 2, 3]], dtype=int64)"
      ]
     },
     "execution_count": 2,
     "metadata": {},
     "output_type": "execute_result"
    }
   ],
   "source": [
    "import numpy as np\n",
    "rng = np.random.default_rng()\n",
    "rng.integers(1,4, size=(5,5) , endpoint=True)"
   ]
  },
  {
   "cell_type": "markdown",
   "metadata": {},
   "source": [
    "#### 2.1.2 Random\n",
    "\n",
    "Random is the updated version in v1.19 to generate a random float numbers from a continous uniform distribution. As seen in the comparison image in the previous section it replaces ranf,ran_sample and sample from older versions. \n",
    "\n",
    "Returns random floats in the half-open interval [0.0, 1.0)\n",
    "\n",
    "   **Inputs**\n",
    "          \n",
    "    size=None, dtype=np.float64, out=None)\n",
    "\n",
    "   **Output** \n",
    "    \n",
    "    float or ndarray of floats\n",
    " \n",
    "The size input determines the output and can have a single integer or a tuple. The cell below shows the array matrix being generated from size \"2\",\"4\". There are 2 rows of 4 values generated. The random floats are generated between 0 and 1 unless you add an additional parameter to state otherwise.\n"
   ]
  },
  {
   "cell_type": "code",
   "execution_count": 3,
   "metadata": {},
   "outputs": [
    {
     "data": {
      "text/plain": [
       "array([[0.71180097, 0.4556411 , 0.07281094, 0.29584994],\n",
       "       [0.31854978, 0.27476593, 0.20751469, 0.15812751]])"
      ]
     },
     "execution_count": 3,
     "metadata": {},
     "output_type": "execute_result"
    }
   ],
   "source": [
    "import numpy as np\n",
    "\n",
    "rng = np.random.default_rng()\n",
    "rng.random((2,4))\n",
    "\n"
   ]
  },
  {
   "cell_type": "markdown",
   "metadata": {},
   "source": [
    "#### 2.1.3 Choice\n",
    "The choice() method allows the user to generate random outputs from a 1-dimensional array that can consist of various different data types. An array can also be passed thrugh allowing strings etc. to be passed through. The output can be generated with/without replacement using \"replace = False\"(ie. Once the value is generated it cannot be generated again). There is also a function in this method to generate both uniform and non uniform outputs by assigning a probability to each of the inputs in the array. If this probability is not assigned to the inputs it is assumed that there will be a uniform distribution over all of the inputs. There is the capability to also shuffle the values when generating data without replacement.\n",
    "\n",
    "   **Inputs**\n",
    "          \n",
    "    (a, size=None, replace=True, p=None, axis=0, shuffle=True)\n",
    "\n",
    "   **Output** \n",
    "    \n",
    "    samples : single item or ndarray\n",
    "        The generated random samples\n"
   ]
  },
  {
   "cell_type": "code",
   "execution_count": 4,
   "metadata": {},
   "outputs": [
    {
     "data": {
      "text/plain": [
       "array([5, 3, 0], dtype=int64)"
      ]
     },
     "execution_count": 4,
     "metadata": {},
     "output_type": "execute_result"
    }
   ],
   "source": [
    "rng = np.random.default_rng()\n",
    "rng.choice(10, 3, replace = False, p=[0.05, 0, 0.05, 0.6, 0,0.3,0,0,0,0], shuffle = True)"
   ]
  },
  {
   "cell_type": "markdown",
   "metadata": {},
   "source": [
    "#### 2.1.4 Bytes\n",
    "\n",
    "This method returns a random bytes. The input required is the length of the string wanted by the user.\n",
    "\n",
    "   **Inputs**\n",
    "          \n",
    "    (length)\n",
    "\n",
    "   **Output** \n",
    "    \n",
    "    out : str\n",
    "    String of length length."
   ]
  },
  {
   "cell_type": "code",
   "execution_count": 5,
   "metadata": {},
   "outputs": [
    {
     "data": {
      "text/plain": [
       "b'\\xe2hx'"
      ]
     },
     "execution_count": 5,
     "metadata": {},
     "output_type": "execute_result"
    }
   ],
   "source": [
    "import numpy as np\n",
    "np.random.default_rng().bytes(3)\n"
   ]
  },
  {
   "cell_type": "markdown",
   "metadata": {},
   "source": [
    "### 2.2 - Permutations <a class=\"anchor\" id=\"2_2__permutations\"></a>\n",
    "\n",
    "<div align=\"center\">\n",
    "\n",
    "|![Permutations](https://github.com/colmhiggs11/numpy-random-assignment/blob/main/Images/Permutations.PNG?raw=true)|\n",
    "|:--:| \n",
    "| *Functions within the Permutations function* |\n",
    "\n",
    "\n",
    "<div align=\"left\">\n",
    "    \n",
    "    \n",
    "#### 2.2.1 Shuffle\n",
    "\n",
    "Shuffle takes an array or list of data and shuffles it into different positions. If you however are using a multi-dimensional array then it gets a little more complicated. Using the np.arange function with the shuffle function it can be seen below that the order of sub arrays can be changed but their contents remain the same unless you change the axis input parameter. This shuffles the contents of the sub arrays and not the position. \n",
    "\n",
    "\n",
    "   **Inputs**\n",
    "          \n",
    "    (x, axis=0)\n",
    "\n",
    "   **Output** \n",
    "    \n",
    "    None\n",
    "\n",
    "\n"
   ]
  },
  {
   "cell_type": "code",
   "execution_count": 6,
   "metadata": {},
   "outputs": [
    {
     "data": {
      "text/plain": [
       "array([1, 4, 7, 3, 6, 5, 8, 9, 2, 0])"
      ]
     },
     "execution_count": 6,
     "metadata": {},
     "output_type": "execute_result"
    }
   ],
   "source": [
    "#Single array of 10 values that are shuffled\n",
    "rng = np.random.default_rng()\n",
    "arr = np.arange(10)\n",
    "rng.shuffle(arr)\n",
    "arr"
   ]
  },
  {
   "cell_type": "code",
   "execution_count": 7,
   "metadata": {},
   "outputs": [
    {
     "data": {
      "text/plain": [
       "array([[0, 1, 2],\n",
       "       [3, 4, 5],\n",
       "       [6, 7, 8]])"
      ]
     },
     "execution_count": 7,
     "metadata": {},
     "output_type": "execute_result"
    }
   ],
   "source": [
    "# The sub arrays positions are shuffled but their contents remain the same\n",
    "arr = np.arange(9).reshape((3, 3))\n",
    "rng.shuffle(arr)\n",
    "arr"
   ]
  },
  {
   "cell_type": "code",
   "execution_count": 8,
   "metadata": {},
   "outputs": [
    {
     "data": {
      "text/plain": [
       "array([[1, 2, 0],\n",
       "       [4, 5, 3],\n",
       "       [7, 8, 6]])"
      ]
     },
     "execution_count": 8,
     "metadata": {},
     "output_type": "execute_result"
    }
   ],
   "source": [
    "# The position of the sub arrays remains and the contents are shuffled \n",
    "arr = np.arange(9).reshape((3, 3))\n",
    "rng.shuffle(arr,axis=1)\n",
    "arr"
   ]
  },
  {
   "cell_type": "markdown",
   "metadata": {},
   "source": [
    "\n",
    "#### 2.2.2 permutation\n",
    "\n",
    "This method randomly changes the sequence of data,range inputted. Unlike shuffle when a single integer is passed as an input parameter the np.arange function does not have to be called. \n",
    "\n",
    "    np.random.default_rng().permutation\n",
    "\n",
    "This will automatically create an array and shuffle the contents. If an array is passed then the permutation function will make a copy and shuffle the contents. The user \n",
    "\n",
    "   **Inputs**\n",
    "          \n",
    "    (x, axis=0)\n",
    "\n",
    "   **Output** \n",
    "    \n",
    "    None"
   ]
  },
  {
   "cell_type": "code",
   "execution_count": 9,
   "metadata": {},
   "outputs": [
    {
     "data": {
      "text/plain": [
       "array([[3, 4, 5],\n",
       "       [6, 7, 8],\n",
       "       [0, 1, 2]])"
      ]
     },
     "execution_count": 9,
     "metadata": {},
     "output_type": "execute_result"
    }
   ],
   "source": [
    "import numpy as np\n",
    "arr = np.arange(9).reshape((3, 3))\n",
    "rng.permutation(arr)"
   ]
  },
  {
   "cell_type": "markdown",
   "metadata": {},
   "source": [
    "## 3 - Distribution Functions <a class=\"anchor\" id=\"3__distribution_functions\"></a>\n",
    "---\n",
    "\n",
    "Probability functions can be classed as either Discrete or Continuous Distributions depending on whether its variables fall into either category. If a value can have an infinite number of values between two values then it is a Continuous variable therefore meaning it will be in the continuous probability distribution. (Height or temperatures are types of Continuous variables. Discrete variables are the variables that cannot have values between to variables. (Coin toss outcomes or dice rolls are types of discrete variables).\n",
    "\n",
    "The distributions analysed in this section are as follows:\n",
    "\n",
    "**Discrete** | **Continuous**\n",
    ":--------------|:--\n",
    "Binomial distribution:|Normal Distribution|\n",
    "Poisson distribution:|Normal Distribution|\n",
    "Uniform distribution:||\n",
    "\n",
    "\n",
    "https://stattrek.com/probability-distributions/discrete-continuous.aspx\n",
    "https://www.datacamp.com/community/tutorials/probability-distributions-python\n",
    "https://www.kaggle.com/hamelg/python-for-data-22-probability-distributions\n",
    "https://statisticsbyjim.com/basics/probability-distributions/\n",
    "https://www.investopedia.com/terms/u/uniform-distribution.asp\n",
    "\n",
    "\n",
    "### 3.1 Binomial Distribution<a class=\"anchor\" id=\"binomial_distribution\"></a>\n",
    "<div align=\"center\">\n",
    "\n",
    "**Binomial distribution** to model binary data, such as coin tosses.\n",
    "\n",
    "\n",
    "|![Distributions](https://www.onlinemathlearning.com/image-files/binomial-distribution-formula.png?raw=true)|\n",
    "|:--:| \n",
    "| *Binomial Distribution Formula* |\n",
    "\n",
    "\n",
    "<div align=\"left\">\n",
    "\n",
    "\n",
    "\n",
    "As the Binomial distribution only allows for two possible outcomes, a flip of a coin is a good way to demonstrate and display the possibility of \"success\" or the number of times heads will occur in a certain amount of flips. The data below shows \"1000\" trials with \"10\" flips per trial. The probability is set to \"0.5\" as either heads or tails is equally possible. The distribution plot is almost symmetrical and shows that the probability of heads being the result is highest at \"5\", so its most likely that there will be 5 heads and 5 tails results.\n",
    "\n",
    "The second graph shows the difference when you change the probability of the occurence. For exanple, if you had a coin that was weighted on one side meaning you knew there was a 75% chance it would flip to heads the distribution shows the probability of the outcomes. Clearly the probability is skewed and shows out of the 10 flips you would be expecting between 7/8 heads results.\n"
   ]
  },
  {
   "cell_type": "code",
   "execution_count": null,
   "metadata": {},
   "outputs": [],
   "source": [
    "P = np.random.binomial(10, 0.5, 1000)# binomial distribution\n",
    "%matplotlib inline\n",
    "sns.distplot(P, color = 'r', bins=20); #histogram and kde plot\n",
    "plt.title('Binomial Distribution')\n",
    "plt.xlabel('x variables')\n",
    "plt.ylabel('p(x)')\n"
   ]
  },
  {
   "cell_type": "code",
   "execution_count": null,
   "metadata": {},
   "outputs": [],
   "source": [
    "P = np.random.binomial(10, 0.75, 1000)# binomial distribution\n",
    "%matplotlib inline\n",
    "sns.distplot(P, color = 'b', bins=20); #histogram and kde plot\n",
    "plt.title('Binomial Distribution')\n",
    "plt.xlabel('x variables')\n",
    "plt.ylabel('p(x)')\n"
   ]
  },
  {
   "cell_type": "markdown",
   "metadata": {},
   "source": [
    "### 3.2 Poisson Distribution<a class=\"anchor\" id=\"poisson_distribution\"></a>\n",
    "\n",
    "**Poisson distribution**\n",
    "\n",
    "Poisson distribution displays the probability an event occurring in fixed time period. Using this distribution the rate of occurance should be constant, the average rate of occurance should be known and the probability of the event occurring should be proportional to the length of the time period.\n",
    "\n",
    "An example where it could be used is counting the amount of library book checked out per hour, the number of calls an office receives per hour or the number of goals scored in an All Ireland final.\n",
    "\n",
    "\n",
    "<div align=\"center\">\n",
    "\n",
    "|![Distributions](https://www.onlinemathlearning.com/image-files/poisson-distribution-formula.png?raw=true)|\n",
    "|:--:| \n",
    "| *Poisson Distribution Formula* |\n",
    "\n",
    "\n",
    "<div align=\"left\">\n",
    "    \n",
    "    \n",
    "    \n",
    "The code below shows the Poisson distribution of goals scored in an particular match where the average number of goals scored is \"2\". As shown in the distrubtion plot the probabilty of the number of goals being scored is highest at the point where the distribution goes towards the average number entered for events occuring in range of the time period. (average goals scored)"
   ]
  },
  {
   "cell_type": "code",
   "execution_count": null,
   "metadata": {},
   "outputs": [],
   "source": [
    "import numpy as np\n",
    "rng = np.random.default_rng()\n",
    "s = rng.poisson(2, 3600)\n",
    "s\n",
    "ax = sns.distplot(s, color = 'b')"
   ]
  },
  {
   "cell_type": "markdown",
   "metadata": {},
   "source": [
    "### 3.3 Uniform Distribution <a class=\"anchor\" id=\"uniform_distribution\"></a>\n",
    "\n",
    "The uniform distribution is a probability distribution where each value within a certain range has the same probability of occuring. The density plot for uniform distribution is almost flat because all values are as likely as eachother. An example of this would be rolling a dice (which would be a discrete uniform distribution).\n",
    "\n",
    "There is such a thing as ontinuous uniform distribution. This means the variable can be any real value within the given range.\n",
    "\n",
    "\n",
    "A continuous uniform distribution usually comes in a rectangular shape. A good example of a continuous uniform distribution is an idealized random number generator. With continuous uniform distribution, just like discrete uniform distribution, every variable has an equal chance of happening. However, there is an infinite number of points that can exist.\n",
    "\n",
    "Formula\n"
   ]
  },
  {
   "cell_type": "code",
   "execution_count": null,
   "metadata": {},
   "outputs": [],
   "source": [
    "s = np.random.default_rng().uniform(1,100,1000)\n",
    "ax = sns.distplot(s, color = 'r')\n",
    "\n"
   ]
  },
  {
   "cell_type": "markdown",
   "metadata": {},
   "source": [
    "### 3.4 Normal Distribution <a class=\"anchor\" id=\"section_3_4\"></a>\n",
    "\n",
    "The most well-known continuous distribution is the **normal distribution**, which is also known as the Gaussian distribution or the “bell curve.”\n",
    "\n",
    "\n",
    "##\n",
    "Shows how much the measurements differ from the mean. Typically if the (std) is low then the data would be seen to be clustered relatively closely around the mean. A high Std suggests that the data is more dispersed and would have a larger range. It also allows for the calculation of the Probability density function the formula shown below. Using the [Empirical or 68,95,99.7 Rule](https://towardsdatascience.com/understanding-the-68-95-99-7-rule-for-a-normal-distribution-b7b7cbf760c2) the percentage of values that fall within one and three standard deviations of the mean can be calculated. See graph below.\n",
    "\n",
    "<div align=\"center\">\n",
    "\n",
    "|![Standard deviation table](https://github.com/colmhiggs11/numpy-random-assignment/blob/main/Images/Standard%20Deviation.png?raw=true)|![Probability Density formula](https://github.com/colmhiggs11/numpy-random-assignment/blob/main/Images/Probability%20Density.PNG?raw=true)|\n",
    "|:--:|:--:|\n",
    "| *Empirical rule distribution*  | *Probability Density formula* |\n"
   ]
  },
  {
   "cell_type": "code",
   "execution_count": null,
   "metadata": {},
   "outputs": [],
   "source": [
    "import numpy as np\n",
    "rng = np.random.default_rng()\n",
    "s = rng.normal(89, 8.9, 50)\n",
    "ax = sns.distplot(s, color = 'b')"
   ]
  },
  {
   "cell_type": "markdown",
   "metadata": {},
   "source": [
    "### 3.5 Exponential Distribution  <a class=\"anchor\" id=\"section_3_5\"></a>\n",
    "\n",
    "The geometric and exponential distributions model the time it takes for an event to occur. The geometric distribution is discrete and models the number of trials it takes to achieve a success in repeated experiments with a given probability of success. The exponential distribution is a continuous analog of the geometric distribution and models the amount of time you have to wait before an event occurs given a certain occurrence rate.\n",
    "\n",
    "Similar to the geometric distribution, the exponential starts high and has a long tail that trails off to the right that contains rare cases where you have to wait much longer than average for an arrival.\n",
    "\n",
    "Formula\n",
    "\n",
    "\n",
    "Suppose the time between calls to a handyman business is exponentially distributed with a mean time between calls of 15 minutes. What is the probability that the first call arrives within 5 and 8 minutes of opening?\n",
    "So this means that we are able to determine that the probability of the first call arrives within 5 and 8 minutes of opening is 0.1299.\n",
    "\n"
   ]
  },
  {
   "cell_type": "code",
   "execution_count": null,
   "metadata": {},
   "outputs": [],
   "source": [
    "import numpy as np\n",
    "rng = np.random.default_rng()\n",
    "s = rng.exponential(size=1000)\n",
    "ax = sns.distplot(s, color = 'b')"
   ]
  },
  {
   "cell_type": "markdown",
   "metadata": {},
   "source": [
    "## 4 - Seeds in generation of pseudorandom numbers <a class=\"anchor\" id=\"4__seeds_in_generation_of_pseudorandom_numbers\"></a>\n",
    "\n",
    "Numpy.random uses Generators and Bit Generators to generate Pseudo random numbers. Generators use sequences of bits created by the Bit Generator and convert them into sequences of numbers that are sampled from probability distributions. Uniform distribution being the most commonly used.\n",
    "\n",
    "In version 1.15 of the numpy package the Mersenne Twister pseudorandom number generator was used.  MT19937, has a long period of 219937-1. This is the number of values before it starts to repeat itself. If the period is too short it makes it easier to break down and recognise the sequence. It also doesn't allow the previous value generated to predict the next value.\n",
    "\n",
    "The seed function allows the user to predict the random numbers that are generated. This is widely used in testing and modelling of data as if the fucntion is \"reseeded\" with the same seed it will produce the same results. If a seed is not stated then the time on the PC's clock is used as the initial seed.\n",
    "\n",
    "\n",
    "**MT19937 Positives** | **MT19937 Negatives**| **PCG64 Positives**| **PCG64 Negatives**\n",
    ":--------------|:--|:--|:--\n",
    "Produces 32-bit or 64-bit numbers (thus usable as source of random bits):|Fails some statistical tests, with as few as 45,000 numbers:|Fast (if multiplication is fast):|New and unknown|\n",
    ":|Predictable — after 624 outputs, we can completely predict its output:|Uses a small amount of memory (although the extended generators allow it to use an arbitrary amount of additional memory to extend the period):||\n",
    ":|Seedings that only differ slightly take a long time to diverge from each other; seeding must be done carefully to avoid bad states :|Challenging to predict:||\n",
    "\n",
    "\n",
    "\n",
    "In the new version of numpy  1.19 the way of generating seeds has changed from the Mersenne twister algorithm to PCG64.Permuted Congruential Generator 64-bit.\n",
    "\n",
    "You can select a much larger seed number, can include increments & variants as input parameters.\n",
    "\n",
    "The images below show the difference in seeding between the two random number generators.\n",
    "\n",
    "\n",
    "|![MT19937](https://github.com/colmhiggs11/numpy-random-assignment/blob/main/Images/Standard%20Deviation.png?raw=true)|![PCG64](https://github.com/colmhiggs11/numpy-random-assignment/blob/main/Images/Probability%20Density.PNG?raw=true)|\n",
    "|:--:|:--:|\n",
    "| *MT19937 Seeding*  | *PCG64 Seeding* |\n",
    "\n",
    "    "
   ]
  },
  {
   "cell_type": "markdown",
   "metadata": {},
   "source": [
    "## 5 - References <a class=\"anchor\" id=\"5__references\"></a>\n",
    "\n",
    "---\n",
    "\n",
    "1. https://numpy.org/\n",
    "2. https://numpy.org/doc/stable/reference/random/index.html\n",
    "3. https://numpy.org/doc/stable/reference/random/generator.html#simple-random-data\n",
    "4. https://numpy.org/doc/stable/reference/random/generator.html#permutations\n",
    "5. https://numpy.org/doc/stable/reference/random/generator.html#distributions\n",
    "6. https://www.programmer-books.com/wp-content/uploads/2019/04/Python-for-Data-Analysis-2nd-Edition.pdf\n",
    "7. https://stattrek.com/probability-distributions/discrete-continuous.aspx\n",
    "8. https://www.datacamp.com/community/tutorials/probability-distributions-python\n",
    "9. https://www.kaggle.com/hamelg/python-for-data-22-probability-distributions\n",
    "10. https://numpy.org/doc/stable/reference/random/new-or-different.html#new-or-different\n",
    "11. https://www.w3schools.com/python/numpy_random.asp\n",
    "12. https://en.wikipedia.org/wiki/Uniform_distribution\n",
    "13. https://www.sciencedirect.com/topics/computer-science/mersenne-twister"
   ]
  },
  {
   "cell_type": "code",
   "execution_count": null,
   "metadata": {},
   "outputs": [],
   "source": []
  }
 ],
 "metadata": {
  "kernelspec": {
   "display_name": "Python 3",
   "language": "python",
   "name": "python3"
  },
  "language_info": {
   "codemirror_mode": {
    "name": "ipython",
    "version": 3
   },
   "file_extension": ".py",
   "mimetype": "text/x-python",
   "name": "python",
   "nbconvert_exporter": "python",
   "pygments_lexer": "ipython3",
   "version": "3.7.4"
  }
 },
 "nbformat": 4,
 "nbformat_minor": 2
}
